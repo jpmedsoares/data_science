{
  "nbformat": 4,
  "nbformat_minor": 0,
  "metadata": {
    "colab": {
      "name": "Analisando os Dados do Airbnb(Porto - Portugal).ipynb",
      "provenance": [],
      "collapsed_sections": [],
      "include_colab_link": true
    },
    "kernelspec": {
      "name": "python3",
      "display_name": "Python 3"
    }
  },
  "cells": [
    {
      "cell_type": "markdown",
      "metadata": {
        "id": "view-in-github",
        "colab_type": "text"
      },
      "source": [
        "<a href=\"https://colab.research.google.com/github/jpmedsoares/data_science/blob/master/Analisando_os_Dados_do_Airbnb(Porto_Portugal).ipynb\" target=\"_parent\"><img src=\"https://colab.research.google.com/assets/colab-badge.svg\" alt=\"Open In Colab\"/></a>"
      ]
    },
    {
      "cell_type": "markdown",
      "metadata": {
        "id": "kLI0gJtzDGuQ",
        "colab_type": "text"
      },
      "source": [
        "<img alt=\"Colaboratory logo\" width=\"15%\" src=\"https://raw.githubusercontent.com/carlosfab/escola-data-science/master/img/novo_logo_bg_claro.png\">\n",
        "\n",
        "#### **Curso Data Science na Prática 2.0**\n",
        "*by [sigmoidal.ai](https://sigmoidal.ai)*\n",
        "#### *Example made by [Joao Soares](https://www.linkedin.com/in/o-joao-soares/)*\n",
        "---\n",
        "\n",
        "# Análise dos Dados do Airbnb - *Porto*\n",
        "\n",
        "A [Airbnb](https://www.airbnb.com.br/) atualmente é considerada a **maior empresa hoteleira da atualidade**mesmo **não possuindo nenhum hotel**!\n",
        "\n",
        "Conectando pessoas que querem viajar (e se hospedar) com anfitriões que querem alugar seus imóveis de maneira prática, o Airbnb fornece uma plataforma inovadora para tornar essa hospedagem alternativa viável e descomplicada.\n",
        "\n",
        "No final de 2018 já havia **hospedado mais de 300 milhões** de pessoas ao redor do globo, colocando a industria hoteleiras em cheque.\n",
        "\n",
        "Uma das iniciativas do Airbnb é disponibilizar dados do site, para algumas das principais cidades do mundo. Por meio do portal [Inside Airbnb](http://insideairbnb.com/get-the-data.html), é possível baixar uma grande quantidade de dados para desenvolver projetos e soluções de *Data Science*.\n",
        "\n",
        "<center><img alt=\"Analisando Airbnb\" width=\"50%\" src=\"https://www.area360.com.au/wp-content/uploads/2017/09/airbnb-logo.jpg\"></center>\n",
        "\n",
        "**Neste *notebook*, iremos analisar os dados referentes à cidade de Porto, no norte de Portugal, e ver quais insights podem ser extraídos a partir de dados brutos.**"
      ]
    },
    {
      "cell_type": "markdown",
      "metadata": {
        "id": "0zxQHhIUDF_2",
        "colab_type": "text"
      },
      "source": [
        "## Obtenção dos Dados\n",
        "\n",
        "Como dito anteriormente, os dado aqui utilizados são públicos, e forma obtidos no site [Inside Airbnb](http://insideairbnb.com/get-the-data.html)\n",
        "\n",
        "Para nossa análise inicial, utilizaremos apenas o seguinte arquivo:\n",
        "\n",
        "* `[listings.csv]` - *Summary information and metrics for listings in Porto (good for visualisations).*"
      ]
    },
    {
      "cell_type": "code",
      "metadata": {
        "id": "Vhp2wMPgJ6zX",
        "colab_type": "code",
        "outputId": "f418ed2e-0bb9-469c-8e9f-9596f057fb21",
        "colab": {
          "base_uri": "https://localhost:8080/",
          "height": 54
        }
      },
      "source": [
        "# importar os pacotes necessarios\n",
        "import pandas as pd\n",
        "import matplotlib.pyplot as plt\n",
        "import seaborn as sns\n",
        "\n",
        "%matplotlib inline"
      ],
      "execution_count": 3,
      "outputs": [
        {
          "output_type": "stream",
          "text": [
            "/usr/local/lib/python3.6/dist-packages/statsmodels/tools/_testing.py:19: FutureWarning: pandas.util.testing is deprecated. Use the functions in the public API at pandas.testing instead.\n",
            "  import pandas.util.testing as tm\n"
          ],
          "name": "stderr"
        }
      ]
    },
    {
      "cell_type": "code",
      "metadata": {
        "id": "tUmoAT8DLQ5T",
        "colab_type": "code",
        "colab": {}
      },
      "source": [
        "# importar o arquivo listings.csv para um DataFrame\n",
        "df = pd.read_csv(\"http://data.insideairbnb.com/portugal/norte/porto/2020-04-23/visualisations/listings.csv\")"
      ],
      "execution_count": 0,
      "outputs": []
    },
    {
      "cell_type": "markdown",
      "metadata": {
        "id": "qb5By2nIMS6m",
        "colab_type": "text"
      },
      "source": [
        "## Análise dos Dados\n",
        "\n",
        "Neste ponto é importante criar uma referência rápida que nos ajude a entender melhor os dados e o que eles significam. Este passo também é importante para começarmos a formular as **perguntas que queremos responder**.\n",
        "\n",
        "Para isso olharemos as primeiras entrada do nosso Data Set e criaremos um Dicinário de Dados:\n"
      ]
    },
    {
      "cell_type": "code",
      "metadata": {
        "id": "w1FfjvUIDr6T",
        "colab_type": "code",
        "outputId": "b7f7e20f-6478-45a6-f82d-ac30cb61cca4",
        "colab": {
          "base_uri": "https://localhost:8080/",
          "height": 487
        }
      },
      "source": [
        "df.head()"
      ],
      "execution_count": 5,
      "outputs": [
        {
          "output_type": "execute_result",
          "data": {
            "text/html": [
              "<div>\n",
              "<style scoped>\n",
              "    .dataframe tbody tr th:only-of-type {\n",
              "        vertical-align: middle;\n",
              "    }\n",
              "\n",
              "    .dataframe tbody tr th {\n",
              "        vertical-align: top;\n",
              "    }\n",
              "\n",
              "    .dataframe thead th {\n",
              "        text-align: right;\n",
              "    }\n",
              "</style>\n",
              "<table border=\"1\" class=\"dataframe\">\n",
              "  <thead>\n",
              "    <tr style=\"text-align: right;\">\n",
              "      <th></th>\n",
              "      <th>id</th>\n",
              "      <th>name</th>\n",
              "      <th>host_id</th>\n",
              "      <th>host_name</th>\n",
              "      <th>neighbourhood_group</th>\n",
              "      <th>neighbourhood</th>\n",
              "      <th>latitude</th>\n",
              "      <th>longitude</th>\n",
              "      <th>room_type</th>\n",
              "      <th>price</th>\n",
              "      <th>minimum_nights</th>\n",
              "      <th>number_of_reviews</th>\n",
              "      <th>last_review</th>\n",
              "      <th>reviews_per_month</th>\n",
              "      <th>calculated_host_listings_count</th>\n",
              "      <th>availability_365</th>\n",
              "    </tr>\n",
              "  </thead>\n",
              "  <tbody>\n",
              "    <tr>\n",
              "      <th>0</th>\n",
              "      <td>41339</td>\n",
              "      <td>Porto city flat near the sea</td>\n",
              "      <td>180050</td>\n",
              "      <td>Paula</td>\n",
              "      <td>PORTO</td>\n",
              "      <td>Lordelo do Ouro e Massarelos</td>\n",
              "      <td>41.15010</td>\n",
              "      <td>-8.66035</td>\n",
              "      <td>Entire home/apt</td>\n",
              "      <td>58</td>\n",
              "      <td>5</td>\n",
              "      <td>17</td>\n",
              "      <td>2018-09-28</td>\n",
              "      <td>0.20</td>\n",
              "      <td>1</td>\n",
              "      <td>164</td>\n",
              "    </tr>\n",
              "    <tr>\n",
              "      <th>1</th>\n",
              "      <td>55111</td>\n",
              "      <td>Fontielas Houses |Floor1 in House with shared ...</td>\n",
              "      <td>259711</td>\n",
              "      <td>Isabel E João</td>\n",
              "      <td>PAREDES</td>\n",
              "      <td>Cete</td>\n",
              "      <td>41.17481</td>\n",
              "      <td>-8.35362</td>\n",
              "      <td>Entire home/apt</td>\n",
              "      <td>66</td>\n",
              "      <td>3</td>\n",
              "      <td>14</td>\n",
              "      <td>2019-09-07</td>\n",
              "      <td>0.24</td>\n",
              "      <td>3</td>\n",
              "      <td>0</td>\n",
              "    </tr>\n",
              "    <tr>\n",
              "      <th>2</th>\n",
              "      <td>70925</td>\n",
              "      <td>APARTMENT WITH THE BEST CITY VIEW</td>\n",
              "      <td>361205</td>\n",
              "      <td>Miguel</td>\n",
              "      <td>VILA NOVA DE GAIA</td>\n",
              "      <td>Santa Marinha e São Pedro da Afurada</td>\n",
              "      <td>41.13810</td>\n",
              "      <td>-8.61108</td>\n",
              "      <td>Entire home/apt</td>\n",
              "      <td>97</td>\n",
              "      <td>4</td>\n",
              "      <td>57</td>\n",
              "      <td>2019-12-09</td>\n",
              "      <td>0.54</td>\n",
              "      <td>2</td>\n",
              "      <td>308</td>\n",
              "    </tr>\n",
              "    <tr>\n",
              "      <th>3</th>\n",
              "      <td>73828</td>\n",
              "      <td>Fontielas Houses |Floor0 in House with shared ...</td>\n",
              "      <td>259711</td>\n",
              "      <td>Isabel E João</td>\n",
              "      <td>PAREDES</td>\n",
              "      <td>Cete</td>\n",
              "      <td>41.17449</td>\n",
              "      <td>-8.35426</td>\n",
              "      <td>Entire home/apt</td>\n",
              "      <td>66</td>\n",
              "      <td>3</td>\n",
              "      <td>8</td>\n",
              "      <td>2019-07-22</td>\n",
              "      <td>0.13</td>\n",
              "      <td>3</td>\n",
              "      <td>0</td>\n",
              "    </tr>\n",
              "    <tr>\n",
              "      <th>4</th>\n",
              "      <td>76436</td>\n",
              "      <td>Go2oporto @ River Side</td>\n",
              "      <td>399503</td>\n",
              "      <td>Go2oporto</td>\n",
              "      <td>PORTO</td>\n",
              "      <td>Cedofeita, Ildefonso, Sé, Miragaia, Nicolau, V...</td>\n",
              "      <td>41.13925</td>\n",
              "      <td>-8.61477</td>\n",
              "      <td>Entire home/apt</td>\n",
              "      <td>91</td>\n",
              "      <td>2</td>\n",
              "      <td>183</td>\n",
              "      <td>2020-03-12</td>\n",
              "      <td>1.78</td>\n",
              "      <td>20</td>\n",
              "      <td>303</td>\n",
              "    </tr>\n",
              "  </tbody>\n",
              "</table>\n",
              "</div>"
            ],
            "text/plain": [
              "      id  ... availability_365\n",
              "0  41339  ...              164\n",
              "1  55111  ...                0\n",
              "2  70925  ...              308\n",
              "3  73828  ...                0\n",
              "4  76436  ...              303\n",
              "\n",
              "[5 rows x 16 columns]"
            ]
          },
          "metadata": {
            "tags": []
          },
          "execution_count": 5
        }
      ]
    },
    {
      "cell_type": "markdown",
      "metadata": {
        "id": "RYgvuebKNg8-",
        "colab_type": "text"
      },
      "source": [
        "**Dicionário das variáveis**\n",
        "\n",
        "* `id` - número de id gerado para identificar o imóvel\n",
        "* `name` - nome da propriedade anunciada\n",
        "* `host_id` - número de id do proprietário (anfitrião) da propriedade\n",
        "* `host_name` - Nome do anfitrião\n",
        "* `neighbourhood_group` - esta coluna não contém nenhum valor válido\n",
        "* `neighbourhood` - nome do bairro\n",
        "* `latitude` - coordenada da latitude da propriedade\n",
        "* `longitude` - coordenada da longitude da propriedade\n",
        "* `room_type` - informa o tipo de quarto que é oferecido\n",
        "* `price` - preço para alugar o imóvel\n",
        "* `minimum_nights` - quantidade mínima de noites para reservar\n",
        "* `number_of_reviews` - número de reviews que a propriedade possui\n",
        "* `last_review` - data do último review\n",
        "* `reviews_per_month` - quantidade de reviews por mês\n",
        "* `calculated_host_listings_count` - quantidade de imóveis do mesmo anfitrião\n",
        "* `availability_365` - número de dias de disponibilidade dentro de 365 dias"
      ]
    },
    {
      "cell_type": "markdown",
      "metadata": {
        "id": "6-B_qtEaYEd-",
        "colab_type": "text"
      },
      "source": [
        "### **Q1. Quantos atributos (variáveis) e quantas entradas o nosso conjunto de dados possui? Quais os tipos das variáveis?**\n",
        "\n",
        "A seguir iremos verificar a quantidade de Entradas (linhas do csv) e qual o tipo de dado cada coluna representa.\n",
        "\n",
        "Note que o dataset utilizado é a versão resumida `listings.csv`, poderíamos também optar pela versão mais completa disponibilizada pelo site, `listings.csv.gz`, mas para fins didáticos a versão resumida nos atende perfeitamente."
      ]
    },
    {
      "cell_type": "code",
      "metadata": {
        "id": "TFRK0tniLV-G",
        "colab_type": "code",
        "outputId": "7b1937e0-6c3d-41b0-b786-a17a49854a7a",
        "colab": {
          "base_uri": "https://localhost:8080/",
          "height": 366
        }
      },
      "source": [
        "# identificar o volume de dados do DataFrame\n",
        "print(\"Entradas:\\t {}\".format(df.shape[0]))\n",
        "print(\"Variáveis:\\t {}\".format(df.shape[1]))\n",
        "\n",
        "# verificar as 5 primeiras entradas do dataset\n",
        "display(df.dtypes)"
      ],
      "execution_count": 6,
      "outputs": [
        {
          "output_type": "stream",
          "text": [
            "Entradas:\t 11904\n",
            "Variáveis:\t 16\n"
          ],
          "name": "stdout"
        },
        {
          "output_type": "display_data",
          "data": {
            "text/plain": [
              "id                                  int64\n",
              "name                               object\n",
              "host_id                             int64\n",
              "host_name                          object\n",
              "neighbourhood_group                object\n",
              "neighbourhood                      object\n",
              "latitude                          float64\n",
              "longitude                         float64\n",
              "room_type                          object\n",
              "price                               int64\n",
              "minimum_nights                      int64\n",
              "number_of_reviews                   int64\n",
              "last_review                        object\n",
              "reviews_per_month                 float64\n",
              "calculated_host_listings_count      int64\n",
              "availability_365                    int64\n",
              "dtype: object"
            ]
          },
          "metadata": {
            "tags": []
          }
        }
      ]
    },
    {
      "cell_type": "markdown",
      "metadata": {
        "id": "yz1urSUGW9iE",
        "colab_type": "text"
      },
      "source": [
        "### **Q2. Qual a porcentagem de valores ausentes no *dataset*?**\n",
        "\n",
        "Para iniciar a nossa análise, é importante avaliar a qualidade do dataset.\n",
        "Fazemos isso verificando a quantidade de valores ausentes e analisando sua importância contra o total de entradas do dataset escolhido.\n",
        "\n"
      ]
    },
    {
      "cell_type": "code",
      "metadata": {
        "id": "plk2FjbCXOqP",
        "colab_type": "code",
        "outputId": "58a8b7e6-0cec-46df-b993-c82352fedc8f",
        "colab": {
          "base_uri": "https://localhost:8080/",
          "height": 329
        }
      },
      "source": [
        "# ordenar em ordem decrescente as variáveis por seus valores ausentes\n",
        "(df.isnull().sum() / df.shape[0]).sort_values(ascending=False)"
      ],
      "execution_count": 7,
      "outputs": [
        {
          "output_type": "execute_result",
          "data": {
            "text/plain": [
              "reviews_per_month                 0.158938\n",
              "last_review                       0.158938\n",
              "host_name                         0.000084\n",
              "name                              0.000084\n",
              "availability_365                  0.000000\n",
              "calculated_host_listings_count    0.000000\n",
              "number_of_reviews                 0.000000\n",
              "minimum_nights                    0.000000\n",
              "price                             0.000000\n",
              "room_type                         0.000000\n",
              "longitude                         0.000000\n",
              "latitude                          0.000000\n",
              "neighbourhood                     0.000000\n",
              "neighbourhood_group               0.000000\n",
              "host_id                           0.000000\n",
              "id                                0.000000\n",
              "dtype: float64"
            ]
          },
          "metadata": {
            "tags": []
          },
          "execution_count": 7
        }
      ]
    },
    {
      "cell_type": "markdown",
      "metadata": {
        "id": "GMpbRuzEHxCP",
        "colab_type": "text"
      },
      "source": [
        "Desta primeira análise podemos observar que:\n",
        "\n",
        "* É possível ver que as colunas reviews_per_month e last_review possuem valores nulos em aproximadamente 16% das entradas.\n",
        "\n",
        "\n"
      ]
    },
    {
      "cell_type": "markdown",
      "metadata": {
        "id": "iHXvvHIxaoNc",
        "colab_type": "text"
      },
      "source": [
        "### **Q3. Qual o tipo de distribuição das variáveis?** \n",
        "\n",
        "Para facilitar a observação da distribuição das variáveis, plotaremos um Histograma abaixo:"
      ]
    },
    {
      "cell_type": "code",
      "metadata": {
        "id": "q2wWSfeRbmBo",
        "colab_type": "code",
        "outputId": "2c76fe2d-9ec5-469b-8ed1-937511b7b858",
        "colab": {
          "base_uri": "https://localhost:8080/",
          "height": 607
        }
      },
      "source": [
        "# plotar o histograma das variáveis numéricas\n",
        "df.hist(bins=20, figsize=(20,10));"
      ],
      "execution_count": 8,
      "outputs": [
        {
          "output_type": "display_data",
          "data": {
            "image/png": "[encoded data removed]",
            "text/plain": [
              "<Figure size 1440x720 with 12 Axes>"
            ]
          },
          "metadata": {
            "tags": [],
            "needs_background": "light"
          }
        }
      ]
    },
    {
      "cell_type": "markdown",
      "metadata": {
        "id": "bIhOFCAjJoIv",
        "colab_type": "text"
      },
      "source": [
        "### **Q4. Há *outliers* presentes?**\n",
        "\n",
        "*Outliers* são dados que se afastam demais da distribuição normal, e podem distorcer a representação gráfica dos dados, por exemplo as variáveis `price`, `minimum_nights` e `calculated_host_listings_count`.\n",
        "\n",
        "Para identificar possíveis *outliers* podemos utilizar duas maneiras rápidas:\n",
        "* Resumo estatistico através do método `describe()`\n",
        "* Plotando `boxplots` das variáveis suspeitas.\n"
      ]
    },
    {
      "cell_type": "code",
      "metadata": {
        "id": "YCKNnse8KpjN",
        "colab_type": "code",
        "outputId": "41672429-87ae-4796-ed93-8a12c9eeb950",
        "colab": {
          "base_uri": "https://localhost:8080/",
          "height": 300
        }
      },
      "source": [
        "# ver o resumo estatístico das variáveis numéricas\n",
        "df[['price', 'minimum_nights', 'number_of_reviews', 'reviews_per_month',\n",
        "    'calculated_host_listings_count', 'availability_365']].describe()"
      ],
      "execution_count": 9,
      "outputs": [
        {
          "output_type": "execute_result",
          "data": {
            "text/html": [
              "<div>\n",
              "<style scoped>\n",
              "    .dataframe tbody tr th:only-of-type {\n",
              "        vertical-align: middle;\n",
              "    }\n",
              "\n",
              "    .dataframe tbody tr th {\n",
              "        vertical-align: top;\n",
              "    }\n",
              "\n",
              "    .dataframe thead th {\n",
              "        text-align: right;\n",
              "    }\n",
              "</style>\n",
              "<table border=\"1\" class=\"dataframe\">\n",
              "  <thead>\n",
              "    <tr style=\"text-align: right;\">\n",
              "      <th></th>\n",
              "      <th>price</th>\n",
              "      <th>minimum_nights</th>\n",
              "      <th>number_of_reviews</th>\n",
              "      <th>reviews_per_month</th>\n",
              "      <th>calculated_host_listings_count</th>\n",
              "      <th>availability_365</th>\n",
              "    </tr>\n",
              "  </thead>\n",
              "  <tbody>\n",
              "    <tr>\n",
              "      <th>count</th>\n",
              "      <td>11904.000000</td>\n",
              "      <td>11904.000000</td>\n",
              "      <td>11904.000000</td>\n",
              "      <td>10012.000000</td>\n",
              "      <td>11904.000000</td>\n",
              "      <td>11904.000000</td>\n",
              "    </tr>\n",
              "    <tr>\n",
              "      <th>mean</th>\n",
              "      <td>85.259913</td>\n",
              "      <td>2.623992</td>\n",
              "      <td>43.264029</td>\n",
              "      <td>1.686250</td>\n",
              "      <td>8.399698</td>\n",
              "      <td>246.258485</td>\n",
              "    </tr>\n",
              "    <tr>\n",
              "      <th>std</th>\n",
              "      <td>227.285050</td>\n",
              "      <td>8.927673</td>\n",
              "      <td>68.369793</td>\n",
              "      <td>1.659522</td>\n",
              "      <td>15.152223</td>\n",
              "      <td>123.906763</td>\n",
              "    </tr>\n",
              "    <tr>\n",
              "      <th>min</th>\n",
              "      <td>0.000000</td>\n",
              "      <td>1.000000</td>\n",
              "      <td>0.000000</td>\n",
              "      <td>0.010000</td>\n",
              "      <td>1.000000</td>\n",
              "      <td>0.000000</td>\n",
              "    </tr>\n",
              "    <tr>\n",
              "      <th>25%</th>\n",
              "      <td>43.000000</td>\n",
              "      <td>1.000000</td>\n",
              "      <td>2.000000</td>\n",
              "      <td>0.360000</td>\n",
              "      <td>1.000000</td>\n",
              "      <td>161.000000</td>\n",
              "    </tr>\n",
              "    <tr>\n",
              "      <th>50%</th>\n",
              "      <td>60.000000</td>\n",
              "      <td>2.000000</td>\n",
              "      <td>15.000000</td>\n",
              "      <td>1.090000</td>\n",
              "      <td>3.000000</td>\n",
              "      <td>300.000000</td>\n",
              "    </tr>\n",
              "    <tr>\n",
              "      <th>75%</th>\n",
              "      <td>89.000000</td>\n",
              "      <td>2.000000</td>\n",
              "      <td>55.000000</td>\n",
              "      <td>2.610000</td>\n",
              "      <td>7.000000</td>\n",
              "      <td>354.000000</td>\n",
              "    </tr>\n",
              "    <tr>\n",
              "      <th>max</th>\n",
              "      <td>10000.000000</td>\n",
              "      <td>365.000000</td>\n",
              "      <td>640.000000</td>\n",
              "      <td>13.390000</td>\n",
              "      <td>89.000000</td>\n",
              "      <td>365.000000</td>\n",
              "    </tr>\n",
              "  </tbody>\n",
              "</table>\n",
              "</div>"
            ],
            "text/plain": [
              "              price  ...  availability_365\n",
              "count  11904.000000  ...      11904.000000\n",
              "mean      85.259913  ...        246.258485\n",
              "std      227.285050  ...        123.906763\n",
              "min        0.000000  ...          0.000000\n",
              "25%       43.000000  ...        161.000000\n",
              "50%       60.000000  ...        300.000000\n",
              "75%       89.000000  ...        354.000000\n",
              "max    10000.000000  ...        365.000000\n",
              "\n",
              "[8 rows x 6 columns]"
            ]
          },
          "metadata": {
            "tags": []
          },
          "execution_count": 9
        }
      ]
    },
    {
      "cell_type": "markdown",
      "metadata": {
        "id": "tNXx8TEBKzCJ",
        "colab_type": "text"
      },
      "source": [
        "Pelo resultado do resumko estatístico acima, podemos levantas algumas hipóteses, tais como:\n",
        "\n",
        "* A variável preço (`price`) possui 75% do valor abaixo de `89,00`, porém seu valor máximo é `10000,00`.\n",
        "* A quantidade mínima de noites (`minimum_nights`) possui 75% do valor abaixo de `2`, porém seu valor máximo é de `365`.\n",
        "\n",
        "#### Criando um Boxplot para minimum_nights:"
      ]
    },
    {
      "cell_type": "code",
      "metadata": {
        "id": "gjtyCd9WLvbs",
        "colab_type": "code",
        "outputId": "94c64f39-a30d-4e07-ebfd-b15a8f8d4f42",
        "colab": {
          "base_uri": "https://localhost:8080/",
          "height": 320
        }
      },
      "source": [
        "#minimum_nights\n",
        "df.minimum_nights.plot(kind='box', figsize=(10, 5), vert=False)\n",
        "plt.show()"
      ],
      "execution_count": 10,
      "outputs": [
        {
          "output_type": "display_data",
          "data": {
            "image/png": "[encoded data removed]",
            "text/plain": [
              "<Figure size 720x360 with 1 Axes>"
            ]
          },
          "metadata": {
            "tags": [],
            "needs_background": "light"
          }
        }
      ]
    },
    {
      "cell_type": "markdown",
      "metadata": {
        "id": "p9q8OhaONEUH",
        "colab_type": "text"
      },
      "source": [
        "Podemos observar alguma dispersão no número mínimo de noites acima de 30, vejamos as quantidades:"
      ]
    },
    {
      "cell_type": "code",
      "metadata": {
        "id": "8SN0dI2eNZ97",
        "colab_type": "code",
        "outputId": "f877164a-1c4b-48ae-b167-438fc5918abc",
        "colab": {
          "base_uri": "https://localhost:8080/",
          "height": 72
        }
      },
      "source": [
        "# ver a quantidade de valores acima de 30 dias para a variável minimum_nights\n",
        "print(\"minimum_nights: valores acima de 30:\")\n",
        "print(\"{} entradas encontradas\".format(len(df[df.minimum_nights > 30])))\n",
        "print(\"{:.4f}%\".format((len(df[df.minimum_nights > 30]) / df.shape[0])*100))"
      ],
      "execution_count": 11,
      "outputs": [
        {
          "output_type": "stream",
          "text": [
            "minimum_nights: valores acima de 30:\n",
            "37 entradas encontradas\n",
            "0.3108%\n"
          ],
          "name": "stdout"
        }
      ]
    },
    {
      "cell_type": "markdown",
      "metadata": {
        "id": "xrrKJfyROKQi",
        "colab_type": "text"
      },
      "source": [
        "Desta análise podemos concluir que:\n",
        "\n",
        "* Cerca de **0.31%** da nossa amostra possui a variável `minimum_nights` acima de 30 dias\n",
        "\n",
        "\n",
        "\n",
        "####Aplicando as mesmas ferramentas para a variável preço:"
      ]
    },
    {
      "cell_type": "code",
      "metadata": {
        "id": "9AKoJFNAPEe7",
        "colab_type": "code",
        "outputId": "4b90e883-d94f-4493-b21e-29ece1631bfb",
        "colab": {
          "base_uri": "https://localhost:8080/",
          "height": 211
        }
      },
      "source": [
        "# price\n",
        "df.price.plot(kind='box', vert=False, figsize=(15, 3),)\n",
        "plt.show()"
      ],
      "execution_count": 12,
      "outputs": [
        {
          "output_type": "display_data",
          "data": {
            "image/png": "[encoded data removed]",
            "text/plain": [
              "<Figure size 1080x216 with 1 Axes>"
            ]
          },
          "metadata": {
            "tags": [],
            "needs_background": "light"
          }
        }
      ]
    },
    {
      "cell_type": "markdown",
      "metadata": {
        "id": "8i0VyiTzOz-g",
        "colab_type": "text"
      },
      "source": [
        "Podemos observar alguma dispersão no preço acima de 300, vejamos as quantidades:"
      ]
    },
    {
      "cell_type": "code",
      "metadata": {
        "id": "wWC7avUTPouH",
        "colab_type": "code",
        "outputId": "3bd14269-15cb-4da1-cbef-66b9b8f07d6c",
        "colab": {
          "base_uri": "https://localhost:8080/",
          "height": 90
        }
      },
      "source": [
        "# ver quantidade de valores acima de 300 para price\n",
        "print(\"\\nprice: valores acima de 500\")\n",
        "print(\"{} entradas\".format(len(df[df.price > 500])))\n",
        "print(\"{:.4f}%\".format((len(df[df.price > 500]) / df.shape[0])*100))"
      ],
      "execution_count": 13,
      "outputs": [
        {
          "output_type": "stream",
          "text": [
            "\n",
            "price: valores acima de 500\n",
            "84 entradas\n",
            "0.7056%\n"
          ],
          "name": "stdout"
        }
      ]
    },
    {
      "cell_type": "markdown",
      "metadata": {
        "id": "HGxomYo_PtP0",
        "colab_type": "text"
      },
      "source": [
        "Desta análise podemos concluir que:\n",
        "\n",
        "* Cerca de **0.7%** da nossa amostra possui a variável `price` acima de 500 euros\n"
      ]
    },
    {
      "cell_type": "markdown",
      "metadata": {
        "id": "Ztnfhx4MP_gP",
        "colab_type": "text"
      },
      "source": [
        "#####Histogramas sem *outliers*\n",
        "\n",
        "Identificados *outliers* nas variáveis `price` e `minimum_nights`, iremos agora limpar o *DataFrame* destas e plotar novamente o histograma."
      ]
    },
    {
      "cell_type": "code",
      "metadata": {
        "id": "0b-nqo4zRTaV",
        "colab_type": "code",
        "outputId": "329eec24-107f-41f7-b2b5-a2e445c579ec",
        "colab": {
          "base_uri": "https://localhost:8080/",
          "height": 607
        }
      },
      "source": [
        "# remover os *outliers* em um novo DataFrame\n",
        "df_clean = df.copy()\n",
        "df_clean.drop(df_clean[df_clean.price > 500].index, axis=0, inplace=True)\n",
        "df_clean.drop(df_clean[df_clean.minimum_nights > 30].index, axis=0, inplace=True)\n",
        "\n",
        "# plotar o histograma para as variáveis numéricas\n",
        "df_clean.hist(bins=15, figsize=(15,10));"
      ],
      "execution_count": 14,
      "outputs": [
        {
          "output_type": "display_data",
          "data": {
            "image/png": "[encoded data removed]",
            "text/plain": [
              "<Figure size 1080x720 with 12 Axes>"
            ]
          },
          "metadata": {
            "tags": [],
            "needs_background": "light"
          }
        }
      ]
    },
    {
      "cell_type": "markdown",
      "metadata": {
        "id": "7x4aw1j5wNmn",
        "colab_type": "text"
      },
      "source": [
        "### **Q5. Qual a média dos preços de aluguel?**\n",
        "\n",
        "Mesmo limitando os valores de preço para os menores do que 500, ainda temos alguma distorção.\n",
        "Vejamos qual o valor médio para a variável preço quando tomamos todo o nosso *dataset*:"
      ]
    },
    {
      "cell_type": "code",
      "metadata": {
        "id": "ff-8gUahLk-C",
        "colab_type": "code",
        "outputId": "fa79dc24-576e-429e-e5d1-72eeeb87b3a8",
        "colab": {
          "base_uri": "https://localhost:8080/",
          "height": 35
        }
      },
      "source": [
        "# ver a média da coluna `price``\n",
        "(df.price.sum() / df.shape[0])\n",
        "print(\"{:.2f} Euros\".format((df.price.sum() / df.shape[0])))"
      ],
      "execution_count": 15,
      "outputs": [
        {
          "output_type": "stream",
          "text": [
            "85.26 Euros\n"
          ],
          "name": "stdout"
        }
      ]
    },
    {
      "cell_type": "markdown",
      "metadata": {
        "id": "IXn2oIo5qx-w",
        "colab_type": "text"
      },
      "source": [
        "### **Q6. Qual a correlação existente entre as variáveis**\n",
        "\n",
        "No nosso contexto, correlação significa que existe uma relação ou semelhança entre duas ou mais variáveis. \n",
        "\n",
        "Essa relação pode ser medida, e é função do coeficiente de correlação estabelecer qual a intensidade dela. Para identificar as correlações existentes entre as variáveis de interesse, iremos:\n",
        "\n",
        "* Criar uma matriz de correlação\n",
        "* Gerar um *heatmap* a partir dessa matriz, usando a biblioteca `seaborn`"
      ]
    },
    {
      "cell_type": "code",
      "metadata": {
        "id": "x2ayzBajqxyd",
        "colab_type": "code",
        "outputId": "e97fc0d1-ee41-4deb-d212-e89e4c8e6cf0",
        "colab": {
          "base_uri": "https://localhost:8080/",
          "height": 238
        }
      },
      "source": [
        "# criar uma matriz de correlação\n",
        "corr = df_clean[['price', 'minimum_nights', 'number_of_reviews', 'reviews_per_month',\n",
        "    'calculated_host_listings_count', 'availability_365']].corr()\n",
        "\n",
        "# mostrar a matriz de correlação\n",
        "display(corr)"
      ],
      "execution_count": 16,
      "outputs": [
        {
          "output_type": "display_data",
          "data": {
            "text/html": [
              "<div>\n",
              "<style scoped>\n",
              "    .dataframe tbody tr th:only-of-type {\n",
              "        vertical-align: middle;\n",
              "    }\n",
              "\n",
              "    .dataframe tbody tr th {\n",
              "        vertical-align: top;\n",
              "    }\n",
              "\n",
              "    .dataframe thead th {\n",
              "        text-align: right;\n",
              "    }\n",
              "</style>\n",
              "<table border=\"1\" class=\"dataframe\">\n",
              "  <thead>\n",
              "    <tr style=\"text-align: right;\">\n",
              "      <th></th>\n",
              "      <th>price</th>\n",
              "      <th>minimum_nights</th>\n",
              "      <th>number_of_reviews</th>\n",
              "      <th>reviews_per_month</th>\n",
              "      <th>calculated_host_listings_count</th>\n",
              "      <th>availability_365</th>\n",
              "    </tr>\n",
              "  </thead>\n",
              "  <tbody>\n",
              "    <tr>\n",
              "      <th>price</th>\n",
              "      <td>1.000000</td>\n",
              "      <td>-0.034108</td>\n",
              "      <td>-0.125056</td>\n",
              "      <td>-0.123227</td>\n",
              "      <td>-0.007965</td>\n",
              "      <td>0.118357</td>\n",
              "    </tr>\n",
              "    <tr>\n",
              "      <th>minimum_nights</th>\n",
              "      <td>-0.034108</td>\n",
              "      <td>1.000000</td>\n",
              "      <td>-0.061309</td>\n",
              "      <td>-0.098310</td>\n",
              "      <td>-0.053065</td>\n",
              "      <td>-0.072915</td>\n",
              "    </tr>\n",
              "    <tr>\n",
              "      <th>number_of_reviews</th>\n",
              "      <td>-0.125056</td>\n",
              "      <td>-0.061309</td>\n",
              "      <td>1.000000</td>\n",
              "      <td>0.763947</td>\n",
              "      <td>-0.078626</td>\n",
              "      <td>0.056477</td>\n",
              "    </tr>\n",
              "    <tr>\n",
              "      <th>reviews_per_month</th>\n",
              "      <td>-0.123227</td>\n",
              "      <td>-0.098310</td>\n",
              "      <td>0.763947</td>\n",
              "      <td>1.000000</td>\n",
              "      <td>-0.073651</td>\n",
              "      <td>0.073574</td>\n",
              "    </tr>\n",
              "    <tr>\n",
              "      <th>calculated_host_listings_count</th>\n",
              "      <td>-0.007965</td>\n",
              "      <td>-0.053065</td>\n",
              "      <td>-0.078626</td>\n",
              "      <td>-0.073651</td>\n",
              "      <td>1.000000</td>\n",
              "      <td>0.098775</td>\n",
              "    </tr>\n",
              "    <tr>\n",
              "      <th>availability_365</th>\n",
              "      <td>0.118357</td>\n",
              "      <td>-0.072915</td>\n",
              "      <td>0.056477</td>\n",
              "      <td>0.073574</td>\n",
              "      <td>0.098775</td>\n",
              "      <td>1.000000</td>\n",
              "    </tr>\n",
              "  </tbody>\n",
              "</table>\n",
              "</div>"
            ],
            "text/plain": [
              "                                   price  ...  availability_365\n",
              "price                           1.000000  ...          0.118357\n",
              "minimum_nights                 -0.034108  ...         -0.072915\n",
              "number_of_reviews              -0.125056  ...          0.056477\n",
              "reviews_per_month              -0.123227  ...          0.073574\n",
              "calculated_host_listings_count -0.007965  ...          0.098775\n",
              "availability_365                0.118357  ...          1.000000\n",
              "\n",
              "[6 rows x 6 columns]"
            ]
          },
          "metadata": {
            "tags": []
          }
        }
      ]
    },
    {
      "cell_type": "code",
      "metadata": {
        "id": "91UujDr6ueqE",
        "colab_type": "code",
        "outputId": "7b91c41f-e9f2-45f2-e26d-6a6838b0c7e6",
        "colab": {
          "base_uri": "https://localhost:8080/",
          "height": 411
        }
      },
      "source": [
        "# plotar um heatmap a partir das correlações\n",
        "sns.heatmap(corr, fmt='.2f', square=False, linecolor='green', annot=True, cmap='RdBu');"
      ],
      "execution_count": 17,
      "outputs": [
        {
          "output_type": "display_data",
          "data": {
            "image/png": "[encoded data removed]",
            "text/plain": [
              "<Figure size 432x288 with 2 Axes>"
            ]
          },
          "metadata": {
            "tags": [],
            "needs_background": "light"
          }
        }
      ]
    },
    {
      "cell_type": "markdown",
      "metadata": {
        "id": "7b6RMWpuHKN-",
        "colab_type": "text"
      },
      "source": [
        "### **Q7. Qual o tipo de imóvel mais alugado no Airbnb?**\n",
        "\n",
        "A variável `room_type` indica o tipo de locação que está anunciada no Airbnb. Existem opções de apartamentos/casas inteiras, apenas o aluguel de um quarto ou mesmo dividir o quarto com outras pessoas.\n",
        "\n",
        "Para verificar qual deles é mais locado, iremos  contar a quantidade de ocorrências de cada tipo de aluguel, usando o método `value_counts()`."
      ]
    },
    {
      "cell_type": "code",
      "metadata": {
        "id": "ueLPNWvPHgfB",
        "colab_type": "code",
        "colab": {
          "base_uri": "https://localhost:8080/",
          "height": 109
        },
        "outputId": "4392e218-3796-4d03-cf78-b0a1c0f6ec7d"
      },
      "source": [
        "# mostrar a quantidade de cada tipo de imóvel disponível\n",
        "df_clean.room_type.value_counts()"
      ],
      "execution_count": 18,
      "outputs": [
        {
          "output_type": "execute_result",
          "data": {
            "text/plain": [
              "Entire home/apt    9150\n",
              "Private room       2225\n",
              "Hotel room          252\n",
              "Shared room         158\n",
              "Name: room_type, dtype: int64"
            ]
          },
          "metadata": {
            "tags": []
          },
          "execution_count": 18
        }
      ]
    },
    {
      "cell_type": "code",
      "metadata": {
        "id": "EvwoO-XAHhIm",
        "colab_type": "code",
        "colab": {
          "base_uri": "https://localhost:8080/",
          "height": 109
        },
        "outputId": "c2a3c2e6-c835-4159-bfe7-716c557a3ffc"
      },
      "source": [
        "# mostrar a porcentagem de cada tipo de imóvel disponível\n",
        "df_clean.room_type.value_counts()/df_clean.shape[0]\n",
        "\n"
      ],
      "execution_count": 23,
      "outputs": [
        {
          "output_type": "execute_result",
          "data": {
            "text/plain": [
              "Entire home/apt    0.776411\n",
              "Private room       0.188799\n",
              "Hotel room         0.021383\n",
              "Shared room        0.013407\n",
              "Name: room_type, dtype: float64"
            ]
          },
          "metadata": {
            "tags": []
          },
          "execution_count": 23
        }
      ]
    },
    {
      "cell_type": "markdown",
      "metadata": {
        "id": "SVyvtYEMhLY3",
        "colab_type": "text"
      },
      "source": [
        "Desta análise podemos concluir que:\n",
        "\n",
        "* A maior parte da nossa amostra, cerca de **77,64%**, é composta de alugueis de casas ou apartamentos inteiros\n",
        "* Em segundo lugar temos os alugéis de quartos privativos, com cerca de **18,88%**\n"
      ]
    },
    {
      "cell_type": "markdown",
      "metadata": {
        "id": "MFa5NbnLJMcd",
        "colab_type": "text"
      },
      "source": [
        "### **Q8. Qual a localidade mais cara do dataset?**\n",
        "\n",
        "Para verificar uma variável em função da outra utilizamos a função `groupby()`. Neste exemplo, queremos comparar os bairros (*neighbourhoods*) a partir do preço de locação.\n"
      ]
    },
    {
      "cell_type": "code",
      "metadata": {
        "id": "MD_xa143JZpi",
        "colab_type": "code",
        "colab": {
          "base_uri": "https://localhost:8080/",
          "height": 329
        },
        "outputId": "54706c05-942c-4df8-866c-f8939c36699c"
      },
      "source": [
        "# ver preços por bairros, na média\n",
        "df_clean.groupby(['neighbourhood']).price.mean().sort_values(ascending=False)[:15]"
      ],
      "execution_count": 28,
      "outputs": [
        {
          "output_type": "execute_result",
          "data": {
            "text/plain": [
              "neighbourhood\n",
              "Negrelos (São Tomé)                  400.000000\n",
              "Folgosa                              255.000000\n",
              "Recarei                              250.000000\n",
              "Água Longa                           200.000000\n",
              "Covelas                              200.000000\n",
              "São Miguel do Mato                   200.000000\n",
              "Santa Eulália                        197.500000\n",
              "São Paio de Oleiros                  190.000000\n",
              "Tropeço                              190.000000\n",
              "Junqueira                            184.750000\n",
              "Fermedo                              184.285714\n",
              "Alvarenga                            179.375000\n",
              "Areias, Sequeiró, Lama e Palmeira    178.000000\n",
              "Melres e Medas                       177.642857\n",
              "Lomba                                161.555556\n",
              "Name: price, dtype: float64"
            ]
          },
          "metadata": {
            "tags": []
          },
          "execution_count": 28
        }
      ]
    },
    {
      "cell_type": "markdown",
      "metadata": {
        "id": "BOjYH3-NjdAY",
        "colab_type": "text"
      },
      "source": [
        "Os resultados acima nos levama  crer que bairros como `Negrelos`, `Folgosa` e `Recarei` tem os preços de aluguel mais caros.\n",
        "\n",
        "Sabemos também que a média dos preços de aluguel é de cerca de 85 euros, portanto os primeiros bairros de nossa lista estão bastante acima da média, o que pode significar algum tipo de distorção.\n",
        "\n",
        "Vejamos quantos imóveis temos disponíveis em cada um destes bairros:"
      ]
    },
    {
      "cell_type": "code",
      "metadata": {
        "id": "m_nU7xADkOLH",
        "colab_type": "code",
        "colab": {
          "base_uri": "https://localhost:8080/",
          "height": 206
        },
        "outputId": "7a2f6d1b-90cd-4ccd-d3c0-d2a7a5d5ac08"
      },
      "source": [
        "# ver quantidade de imóveis no Negrelos (São Tomé)\n",
        "print(df_clean[df_clean.neighbourhood == \"Negrelos (São Tomé)\"].shape)\n",
        "\n",
        "# ver a entradas do bairro Negrelos (São Tomé)\n",
        "df_clean[df_clean.neighbourhood == \"Negrelos (São Tomé)\"]"
      ],
      "execution_count": 31,
      "outputs": [
        {
          "output_type": "stream",
          "text": [
            "(1, 16)\n"
          ],
          "name": "stdout"
        },
        {
          "output_type": "execute_result",
          "data": {
            "text/html": [
              "<div>\n",
              "<style scoped>\n",
              "    .dataframe tbody tr th:only-of-type {\n",
              "        vertical-align: middle;\n",
              "    }\n",
              "\n",
              "    .dataframe tbody tr th {\n",
              "        vertical-align: top;\n",
              "    }\n",
              "\n",
              "    .dataframe thead th {\n",
              "        text-align: right;\n",
              "    }\n",
              "</style>\n",
              "<table border=\"1\" class=\"dataframe\">\n",
              "  <thead>\n",
              "    <tr style=\"text-align: right;\">\n",
              "      <th></th>\n",
              "      <th>id</th>\n",
              "      <th>name</th>\n",
              "      <th>host_id</th>\n",
              "      <th>host_name</th>\n",
              "      <th>neighbourhood_group</th>\n",
              "      <th>neighbourhood</th>\n",
              "      <th>latitude</th>\n",
              "      <th>longitude</th>\n",
              "      <th>room_type</th>\n",
              "      <th>price</th>\n",
              "      <th>minimum_nights</th>\n",
              "      <th>number_of_reviews</th>\n",
              "      <th>last_review</th>\n",
              "      <th>reviews_per_month</th>\n",
              "      <th>calculated_host_listings_count</th>\n",
              "      <th>availability_365</th>\n",
              "    </tr>\n",
              "  </thead>\n",
              "  <tbody>\n",
              "    <tr>\n",
              "      <th>7335</th>\n",
              "      <td>28651817</td>\n",
              "      <td>Casa fantástica com história, charme e privaci...</td>\n",
              "      <td>24480387</td>\n",
              "      <td>Clara</td>\n",
              "      <td>SANTO TIRSO</td>\n",
              "      <td>Negrelos (São Tomé)</td>\n",
              "      <td>41.34715</td>\n",
              "      <td>-8.40981</td>\n",
              "      <td>Entire home/apt</td>\n",
              "      <td>400</td>\n",
              "      <td>3</td>\n",
              "      <td>1</td>\n",
              "      <td>2019-08-27</td>\n",
              "      <td>0.12</td>\n",
              "      <td>1</td>\n",
              "      <td>305</td>\n",
              "    </tr>\n",
              "  </tbody>\n",
              "</table>\n",
              "</div>"
            ],
            "text/plain": [
              "            id  ... availability_365\n",
              "7335  28651817  ...              305\n",
              "\n",
              "[1 rows x 16 columns]"
            ]
          },
          "metadata": {
            "tags": []
          },
          "execution_count": 31
        }
      ]
    },
    {
      "cell_type": "code",
      "metadata": {
        "id": "XuJLBvvGlK2L",
        "colab_type": "code",
        "colab": {
          "base_uri": "https://localhost:8080/",
          "height": 189
        },
        "outputId": "4105c55b-ee10-440f-c8d5-43b119a3295e"
      },
      "source": [
        "# ver quantidade de imóveis no Folgosa\n",
        "print(df_clean[df_clean.neighbourhood == \"Folgosa\"].shape)\n",
        "\n",
        "# ver a entradas do bairro Folgosa\n",
        "df_clean[df_clean.neighbourhood == \"Folgosa\"]"
      ],
      "execution_count": 32,
      "outputs": [
        {
          "output_type": "stream",
          "text": [
            "(1, 16)\n"
          ],
          "name": "stdout"
        },
        {
          "output_type": "execute_result",
          "data": {
            "text/html": [
              "<div>\n",
              "<style scoped>\n",
              "    .dataframe tbody tr th:only-of-type {\n",
              "        vertical-align: middle;\n",
              "    }\n",
              "\n",
              "    .dataframe tbody tr th {\n",
              "        vertical-align: top;\n",
              "    }\n",
              "\n",
              "    .dataframe thead th {\n",
              "        text-align: right;\n",
              "    }\n",
              "</style>\n",
              "<table border=\"1\" class=\"dataframe\">\n",
              "  <thead>\n",
              "    <tr style=\"text-align: right;\">\n",
              "      <th></th>\n",
              "      <th>id</th>\n",
              "      <th>name</th>\n",
              "      <th>host_id</th>\n",
              "      <th>host_name</th>\n",
              "      <th>neighbourhood_group</th>\n",
              "      <th>neighbourhood</th>\n",
              "      <th>latitude</th>\n",
              "      <th>longitude</th>\n",
              "      <th>room_type</th>\n",
              "      <th>price</th>\n",
              "      <th>minimum_nights</th>\n",
              "      <th>number_of_reviews</th>\n",
              "      <th>last_review</th>\n",
              "      <th>reviews_per_month</th>\n",
              "      <th>calculated_host_listings_count</th>\n",
              "      <th>availability_365</th>\n",
              "    </tr>\n",
              "  </thead>\n",
              "  <tbody>\n",
              "    <tr>\n",
              "      <th>1474</th>\n",
              "      <td>8984460</td>\n",
              "      <td>Casa com jardins e piscina</td>\n",
              "      <td>3569607</td>\n",
              "      <td>Paraiso</td>\n",
              "      <td>MAIA</td>\n",
              "      <td>Folgosa</td>\n",
              "      <td>41.26576</td>\n",
              "      <td>-8.5491</td>\n",
              "      <td>Entire home/apt</td>\n",
              "      <td>255</td>\n",
              "      <td>3</td>\n",
              "      <td>28</td>\n",
              "      <td>2019-10-27</td>\n",
              "      <td>0.54</td>\n",
              "      <td>1</td>\n",
              "      <td>275</td>\n",
              "    </tr>\n",
              "  </tbody>\n",
              "</table>\n",
              "</div>"
            ],
            "text/plain": [
              "           id  ... availability_365\n",
              "1474  8984460  ...              275\n",
              "\n",
              "[1 rows x 16 columns]"
            ]
          },
          "metadata": {
            "tags": []
          },
          "execution_count": 32
        }
      ]
    },
    {
      "cell_type": "code",
      "metadata": {
        "id": "uHf6rc2XlKjd",
        "colab_type": "code",
        "colab": {
          "base_uri": "https://localhost:8080/",
          "height": 189
        },
        "outputId": "b90b5ed6-8c28-424d-a496-40e1a287ebcf"
      },
      "source": [
        "# ver quantidade de imóveis no Recarei\n",
        "print(df_clean[df_clean.neighbourhood == \"Recarei\"].shape)\n",
        "\n",
        "# ver a entradas do bairro Recarei\n",
        "df_clean[df_clean.neighbourhood == \"Recarei\"]"
      ],
      "execution_count": 33,
      "outputs": [
        {
          "output_type": "stream",
          "text": [
            "(1, 16)\n"
          ],
          "name": "stdout"
        },
        {
          "output_type": "execute_result",
          "data": {
            "text/html": [
              "<div>\n",
              "<style scoped>\n",
              "    .dataframe tbody tr th:only-of-type {\n",
              "        vertical-align: middle;\n",
              "    }\n",
              "\n",
              "    .dataframe tbody tr th {\n",
              "        vertical-align: top;\n",
              "    }\n",
              "\n",
              "    .dataframe thead th {\n",
              "        text-align: right;\n",
              "    }\n",
              "</style>\n",
              "<table border=\"1\" class=\"dataframe\">\n",
              "  <thead>\n",
              "    <tr style=\"text-align: right;\">\n",
              "      <th></th>\n",
              "      <th>id</th>\n",
              "      <th>name</th>\n",
              "      <th>host_id</th>\n",
              "      <th>host_name</th>\n",
              "      <th>neighbourhood_group</th>\n",
              "      <th>neighbourhood</th>\n",
              "      <th>latitude</th>\n",
              "      <th>longitude</th>\n",
              "      <th>room_type</th>\n",
              "      <th>price</th>\n",
              "      <th>minimum_nights</th>\n",
              "      <th>number_of_reviews</th>\n",
              "      <th>last_review</th>\n",
              "      <th>reviews_per_month</th>\n",
              "      <th>calculated_host_listings_count</th>\n",
              "      <th>availability_365</th>\n",
              "    </tr>\n",
              "  </thead>\n",
              "  <tbody>\n",
              "    <tr>\n",
              "      <th>1179</th>\n",
              "      <td>7234445</td>\n",
              "      <td>Moradia de Luxo c/ Piscina e Wi-FI</td>\n",
              "      <td>37877962</td>\n",
              "      <td>Miguel</td>\n",
              "      <td>PAREDES</td>\n",
              "      <td>Recarei</td>\n",
              "      <td>41.14971</td>\n",
              "      <td>-8.44221</td>\n",
              "      <td>Entire home/apt</td>\n",
              "      <td>250</td>\n",
              "      <td>7</td>\n",
              "      <td>0</td>\n",
              "      <td>NaN</td>\n",
              "      <td>NaN</td>\n",
              "      <td>1</td>\n",
              "      <td>267</td>\n",
              "    </tr>\n",
              "  </tbody>\n",
              "</table>\n",
              "</div>"
            ],
            "text/plain": [
              "           id  ... availability_365\n",
              "1179  7234445  ...              267\n",
              "\n",
              "[1 rows x 16 columns]"
            ]
          },
          "metadata": {
            "tags": []
          },
          "execution_count": 33
        }
      ]
    },
    {
      "cell_type": "markdown",
      "metadata": {
        "id": "iNP7KhaalmR8",
        "colab_type": "text"
      },
      "source": [
        "Podemos observar que cada um destes bairros possui apenas um imóvel, sendo `Negrelos` e `Recarei` tem pouquissimos ou nenhum review.\n",
        "\n",
        "Talvez numa análise mais detalhada pudéssemos limpar novamente a nossa amostra para remover tais distorções.\n",
        "\n",
        "\n",
        "Como são fornecidas as Latitudes e Longitudes para os imóveis, é possível plotar cada ponto. Para isso, considera-se `x=longitude` e `y=latitude`, e abaixo veremos como os imoveis estão distruibuidos ao longo do mapa da cidade:"
      ]
    },
    {
      "cell_type": "code",
      "metadata": {
        "id": "UxVJqJ_3W59I",
        "colab_type": "code",
        "colab": {
          "base_uri": "https://localhost:8080/",
          "height": 476
        },
        "outputId": "98f97110-b195-4e56-f31c-7ff909ab6d4e"
      },
      "source": [
        "# plotar os imóveis pela latitude-longitude\n",
        "df_clean.plot(kind=\"scatter\", x='longitude', y='latitude', alpha=0.4, c=df_clean['price'], s=8,\n",
        "              cmap=plt.get_cmap('jet'), figsize=(12,8));\n"
      ],
      "execution_count": 35,
      "outputs": [
        {
          "output_type": "display_data",
          "data": {
            "image/png": "[encoded data removed]",
            "text/plain": [
              "<Figure size 864x576 with 2 Axes>"
            ]
          },
          "metadata": {
            "tags": [],
            "needs_background": "light"
          }
        }
      ]
    },
    {
      "cell_type": "markdown",
      "metadata": {
        "id": "vTneAMRUYvr1",
        "colab_type": "text"
      },
      "source": [
        "### **Q7. Qual é a média do mínimo de noites para aluguel (minimum_nights)?**\n",
        "\n",
        "Durante nossa análise vimos que alguns imóveis estão disponíveis para aluguel com quantidades minimas de noites muito variadas.\n",
        "\n",
        "Vamos avaliar a media do *dataset* para ter uma idéia melhor de quais entradas poderiam estar distorcendo esta variável:\n"
      ]
    },
    {
      "cell_type": "code",
      "metadata": {
        "id": "_VzNhrEgY82N",
        "colab_type": "code",
        "colab": {
          "base_uri": "https://localhost:8080/",
          "height": 35
        },
        "outputId": "51f48099-5393-483f-a40d-e196c06654c3"
      },
      "source": [
        "# ver a média da coluna `minimum_nights``\n",
        "noites = df_clean.minimum_nights.sum() / df_clean.shape[0]\n",
        "print(\"{:.2f} Noites\".format(noites))\n"
      ],
      "execution_count": 42,
      "outputs": [
        {
          "output_type": "stream",
          "text": [
            "2.27 Noites\n"
          ],
          "name": "stdout"
        }
      ]
    },
    {
      "cell_type": "markdown",
      "metadata": {
        "id": "xEkixtPvn14P",
        "colab_type": "text"
      },
      "source": [
        "\n",
        "Numa análise mais aprofundada poderíamos remover do nosso *dataset* os valores que se afastem demais da média de `2,27` noites."
      ]
    },
    {
      "cell_type": "markdown",
      "metadata": {
        "id": "GkvAg623RjoR",
        "colab_type": "text"
      },
      "source": [
        "## Conclusões\n"
      ]
    },
    {
      "cell_type": "markdown",
      "metadata": {
        "id": "rbZ3Hsy9Ypw8",
        "colab_type": "text"
      },
      "source": [
        "Nesta primeira e superficial análise pudemos constatar:\n",
        "\n",
        "* Existem *outliers* em algumas variáveis como `price` e `minimum_nights`\n",
        "* Algumas localidades possuem poucos imóveis, de pouca relevancia se observada a variável `number_of_reviews`\n",
        "\n",
        "Por fim, lembramos que este *dataset* é uma versão resumida, ideal apenas para uma abordagem inicial. \n",
        "Em uma próxima análise exploratória recomenda-se que seja utilizado o conjunto de dados completos, com 106 atributos disponíveis.\n"
      ]
    },
    {
      "cell_type": "code",
      "metadata": {
        "id": "lOuWYqBSpEkB",
        "colab_type": "code",
        "colab": {}
      },
      "source": [
        ""
      ],
      "execution_count": 0,
      "outputs": []
    }
  ]
}